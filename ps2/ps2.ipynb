{
 "cells": [
  {
   "cell_type": "code",
   "execution_count": 1,
   "metadata": {
    "collapsed": true
   },
   "outputs": [],
   "source": [
    "import os\n",
    "import numpy as np\n",
    "import cv2\n",
    "import matplotlib.pyplot as plt\n",
    "%matplotlib inline\n",
    "%load_ext autoreload\n",
    "%autoreload 2"
   ]
  },
  {
   "cell_type": "code",
   "execution_count": 152,
   "metadata": {
    "collapsed": false
   },
   "outputs": [],
   "source": [
    "import numpy as np\n",
    "from math import *\n",
    "\n",
    "def find_best_match(patch, strip):\n",
    "    \"\"\"\n",
    "    Finds the patch in the strip that has the least squared sum of difference\n",
    "    \n",
    "    Params:\n",
    "    patch: Patch to match\n",
    "    strip: Image strip to search through\n",
    "    \n",
    "    Returns: Best position in strip that matches the patch\n",
    "    \"\"\"\n",
    "    num_blocks = strip.shape[1]//patch.shape[1]\n",
    "    best_x = 0\n",
    "    min_diff = np.inf\n",
    "    for i in range(num_blocks):\n",
    "        x = i*patch.shape[1]\n",
    "        other_patch = strip[:,x:x+patch.shape[1]]\n",
    "        diff = np.sum((patch - other_patch)**2)\n",
    "        if diff < min_diff:\n",
    "            min_diff = diff\n",
    "            best_x = x\n",
    "            \n",
    "#     print('Min diff : '+str(min_diff))\n",
    "    return best_x\n",
    "        \n",
    "def match_strips(strip_left, strip_right, b):\n",
    "    \"\"\"\n",
    "    Finds disparity between the given strips for a window size 'b'\n",
    "    \n",
    "    Params:\n",
    "    strip_left: Left image strip\n",
    "    strip_right: Right image strip\n",
    "    b: Patch width\n",
    "    \"\"\"\n",
    "    n_blocks = strip_left.shape[1]//b\n",
    "    disparity = np.zeros((strip_left.shape[1], ));\n",
    "    for i in range(n_blocks):\n",
    "        x = i*b;\n",
    "        patch = strip_left[:, x:(x + b)];\n",
    "        best_x = find_best_match(patch, strip_right);\n",
    "        disparity[x:(x + b)] = x - best_x\n",
    "\n",
    "    return disparity\n",
    "    \n",
    "    \n",
    "def disparity_ssd(L, R, window_size = None):\n",
    "    \"\"\"Compute disparity map D(y, x) such that: L(y, x) = R(y, x + D(y, x))\n",
    "    \n",
    "    Params:\n",
    "    L: Grayscale left image\n",
    "    R: Grayscale right image, same size as L\n",
    "    window_size: Window size\n",
    "\n",
    "    Returns: Disparity map, same size as L, R\n",
    "    \"\"\"\n",
    "    if window_size is None:\n",
    "        window_size = (4, 4)\n",
    "        \n",
    "    block_height, block_width = window_size\n",
    "        \n",
    "\n",
    "    num_strips = L.shape[0]//block_height\n",
    "#     num_blocks = L.shape[1]//window_size[1]\n",
    "    \n",
    "    disparity = np.zeros_like(L)\n",
    "    for i in range(num_strips):\n",
    "        y = i * window_size[0]\n",
    "        left_strip = L[y:y + block_height,:]\n",
    "        right_strip = R[y:y + block_height,:]\n",
    "        disparity_strip = match_strips(left_strip, right_strip, block_width)\n",
    "        disparity[y:y + block_height, :] = disparity_strip\n",
    "\n",
    "    return np.array(disparity)\n",
    "\n",
    "def normalize_disparity(D):\n",
    "    min_d = np.amin(D)\n",
    "    max_d = np.amax(D)\n",
    "    return (D - min_d)/(max_d - min_d)*255\n",
    "\n",
    "L1 = cv2.imread(os.path.join('input', 'pair0-L.png'), 0)/255.  # grayscale, [0, 1]\n",
    "R1 = cv2.imread(os.path.join('input', 'pair0-R.png'), 0)/255.\n",
    "\n",
    "D_L1 = disparity_ssd(L1, R1, window_size = (4,4))\n",
    "D_R1 = disparity_ssd(R1, L1, window_size = (4,4))"
   ]
  },
  {
   "cell_type": "code",
   "execution_count": 153,
   "metadata": {
    "collapsed": false
   },
   "outputs": [
    {
     "data": {
      "text/plain": [
       "(<matplotlib.figure.Figure at 0x115e43c88>,\n",
       " <matplotlib.image.AxesImage at 0x116ff0ba8>)"
      ]
     },
     "execution_count": 153,
     "metadata": {},
     "output_type": "execute_result"
    },
    {
     "data": {
      "image/png": "[encoded data removed]",
      "text/plain": [
       "<matplotlib.figure.Figure at 0x115e43c50>"
      ]
     },
     "metadata": {},
     "output_type": "display_data"
    },
    {
     "data": {
      "image/png": "[encoded data removed]",
      "text/plain": [
       "<matplotlib.figure.Figure at 0x115e43c88>"
      ]
     },
     "metadata": {},
     "output_type": "display_data"
    }
   ],
   "source": [
    "## 1.a\n",
    "D_L1_norm = normalize_disparity(D_L1)\n",
    "D_R1_norm = normalize_disparity(D_R1)\n",
    "cv2.imwrite('output/ps2-1-a-1.png', D_L1_norm)\n",
    "cv2.imwrite('output/ps2-1-a-2.png', D_R1_norm)\n",
    "plt.figure(), plt.imshow(D_L1_norm, 'gray')\n",
    "plt.figure(), plt.imshow(D_R1_norm, 'gray')"
   ]
  },
  {
   "cell_type": "code",
   "execution_count": 156,
   "metadata": {
    "collapsed": false
   },
   "outputs": [
    {
     "data": {
      "text/plain": [
       "(<matplotlib.figure.Figure at 0x117423278>,\n",
       " <matplotlib.image.AxesImage at 0x11c997e48>)"
      ]
     },
     "execution_count": 156,
     "metadata": {},
     "output_type": "execute_result"
    },
    {
     "data": {
      "image/png": "[encoded data removed]",
      "text/plain": [
       "<matplotlib.figure.Figure at 0x1174232e8>"
      ]
     },
     "metadata": {},
     "output_type": "display_data"
    },
    {
     "data": {
      "image/png": "[encoded data removed]",
      "text/plain": [
       "<matplotlib.figure.Figure at 0x117423278>"
      ]
     },
     "metadata": {},
     "output_type": "display_data"
    }
   ],
   "source": [
    "## 2.a\n",
    "L2 = cv2.imread(os.path.join('input', 'pair1-L.png'), 0)/255.  # grayscale, [0, 1]\n",
    "R2 = cv2.imread(os.path.join('input', 'pair1-R.png'), 0)/255.\n",
    "\n",
    "D_L2 = disparity_ssd(L2, R2, window_size = (32,32))\n",
    "D_R2 = disparity_ssd(R2, L2, window_size = (32,32))\n",
    "D_L2_norm = normalize_disparity(D_L2)\n",
    "D_R2_norm = normalize_disparity(D_R2)\n",
    "plt.figure(), plt.imshow(D_L2_norm, 'gray')\n",
    "plt.figure(), plt.imshow(D_R2_norm, 'gray')"
   ]
  },
  {
   "cell_type": "code",
   "execution_count": null,
   "metadata": {
    "collapsed": true
   },
   "outputs": [],
   "source": []
  }
 ],
 "metadata": {
  "anaconda-cloud": {},
  "kernelspec": {
   "display_name": "Python [Root]",
   "language": "python",
   "name": "Python [Root]"
  },
  "language_info": {
   "codemirror_mode": {
    "name": "ipython",
    "version": 3
   },
   "file_extension": ".py",
   "mimetype": "text/x-python",
   "name": "python",
   "nbconvert_exporter": "python",
   "pygments_lexer": "ipython3",
   "version": "3.5.2"
  }
 },
 "nbformat": 4,
 "nbformat_minor": 0
}
